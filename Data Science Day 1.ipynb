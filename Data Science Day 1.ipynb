{
 "cells": [
  {
   "cell_type": "raw",
   "metadata": {},
   "source": [
    "Given the following jumbled word, OBANWRI guess the correct English word.\n",
    "\n",
    "Ans:-  RAINBOW"
   ]
  },
  {
   "cell_type": "code",
   "execution_count": 1,
   "metadata": {},
   "outputs": [
    {
     "name": "stdout",
     "output_type": "stream",
     "text": [
      "LETS UPGRADE\n"
     ]
    }
   ],
   "source": [
    "#Write a program which prints “LETS UPGRADE”.\n",
    "print(\"LETS UPGRADE\")"
   ]
  },
  {
   "cell_type": "code",
   "execution_count": 15,
   "metadata": {},
   "outputs": [
    {
     "name": "stdout",
     "output_type": "stream",
     "text": [
      "10\n",
      "20\n",
      "Profit\n",
      "30\n",
      "10\n",
      "Loss\n",
      "200\n",
      "200\n",
      "Nither\n",
      "50\n",
      "40\n",
      "Loss\n",
      "44\n",
      "44\n",
      "Nither\n"
     ]
    }
   ],
   "source": [
    "#Write a program that takes cost price and selling price as input and displays whether the transaction is a\n",
    "Profit or a Loss or Neither.\n",
    "for x in range(5):\n",
    "    cost=int(input(\"\"))\n",
    "    sell=int(input(\"\"))\n",
    "    if cost<sell:\n",
    "          print(\"Profit\")\n",
    "    elif cost>sell:\n",
    "        print(\"Loss\")\n",
    "    else:\n",
    "         print(\"Nither\")\n",
    "   \n",
    "\n",
    "\n",
    "    \n",
    "\n",
    "  \n",
    "\n",
    "\n",
    "\n",
    "\n"
   ]
  },
  {
   "cell_type": "code",
   "execution_count": 20,
   "metadata": {},
   "outputs": [
    {
     "name": "stdout",
     "output_type": "stream",
     "text": [
      "10\n",
      "800\n",
      "20\n",
      "1600\n",
      "60\n",
      "4800\n",
      "84\n",
      "6720\n",
      "12\n",
      "960\n"
     ]
    }
   ],
   "source": [
    "#Write a program that takes an amount in Euros as input. You need to find its equivalent in Rupees and display it.\n",
    "#Assume 1 Euro equals Rs. 80.\n",
    "euro = 80\n",
    "for x in range(5):\n",
    "    Euro_Amount=int(input(\"\"))\n",
    "    Rupees=Euro_Amount*euro\n",
    "    print(Rupees)"
   ]
  }
 ],
 "metadata": {
  "kernelspec": {
   "display_name": "Python 3",
   "language": "python",
   "name": "python3"
  },
  "language_info": {
   "codemirror_mode": {
    "name": "ipython",
    "version": 3
   },
   "file_extension": ".py",
   "mimetype": "text/x-python",
   "name": "python",
   "nbconvert_exporter": "python",
   "pygments_lexer": "ipython3",
   "version": "3.8.3"
  }
 },
 "nbformat": 4,
 "nbformat_minor": 4
}
